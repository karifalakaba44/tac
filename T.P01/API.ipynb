{
 "cells": [
  {
   "cell_type": "code",
   "execution_count": 1,
   "metadata": {},
   "outputs": [],
   "source": [
    "import json\n",
    "import requests"
   ]
  },
  {
   "cell_type": "markdown",
   "metadata": {},
   "source": [
    " ## Api d'analyse de texte: détection automatique de la langue. Peut être utile dans le cadre du corpus Camille pour savoir facilement diviser les articles écrits en français et les articles écrit en néerlandais.\n"
   ]
  },
  {
   "cell_type": "code",
   "execution_count": 16,
   "metadata": {},
   "outputs": [
    {
     "name": "stdout",
     "output_type": "stream",
     "text": [
      "{'app_version': 'v1.1', 'time_taken': 0.00977635383605957, 'msg': 'language detection successful', 'ok': True, 'language_probability': {'sv': '0.9999974261314742'}}\n"
     ]
    }
   ],
   "source": [
    "\n",
    "\n",
    "url = \"https://text-analysis12.p.rapidapi.com/language-detection/api/v1.1\"\n",
    "\n",
    "payload = { \"text\": \"KB_JB838_1943-09-04_01-00002.pdf\" }\n",
    "headers = {\n",
    "\t\"content-type\": \"application/json\",\n",
    "\t\"X-RapidAPI-Key\": \"342f201d44msh267d1e325feaa23p1dbef4jsn307938a11058\",\n",
    "\t\"X-RapidAPI-Host\": \"text-analysis12.p.rapidapi.com\"\n",
    "}\n",
    "\n",
    "response = requests.post(url, json=payload, headers=headers)\n",
    "\n",
    "print(response.json())"
   ]
  }
 ],
 "metadata": {
  "kernelspec": {
   "display_name": "tac_venv",
   "language": "python",
   "name": "python3"
  },
  "language_info": {
   "codemirror_mode": {
    "name": "ipython",
    "version": 3
   },
   "file_extension": ".py",
   "mimetype": "text/x-python",
   "name": "python",
   "nbconvert_exporter": "python",
   "pygments_lexer": "ipython3",
   "version": "3.11.5"
  },
  "orig_nbformat": 4
 },
 "nbformat": 4,
 "nbformat_minor": 2
}
