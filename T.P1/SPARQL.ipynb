{
 "cells": [
  {
   "cell_type": "code",
   "execution_count": null,
   "metadata": {},
   "outputs": [],
   "source": [
    "from datetime import datetime as dt\n",
    "from SPARQLWrapper import SPARQLWrapper, JSON"
   ]
  },
  {
   "cell_type": "markdown",
   "metadata": {},
   "source": [
    "## Cette requête SPARQL interroge Wikidata pour récupérer des informations sur les journalistes féminines belges, y compris leur date de naissance, date de décès, lieu de naissance, occupation, et les récompenses qu'elles ont reçues"
   ]
  },
  {
   "cell_type": "code",
   "execution_count": 5,
   "metadata": {},
   "outputs": [
    {
     "name": "stdout",
     "output_type": "stream",
     "text": [
      "\n",
      "208 female journalists found\n",
      "\n",
      "[{'person': {'type': 'uri', 'value': 'http://www.wikidata.org/entity/Q105436916'}, 'personLabel': {'xml:lang': 'en', 'type': 'literal', 'value': 'Alice Bron'}, 'dateBirth': {'datatype': 'http://www.w3.org/2001/XMLSchema#dateTime', 'type': 'literal', 'value': '1850-10-28T00:00:00Z'}, 'dateDeath': {'datatype': 'http://www.w3.org/2001/XMLSchema#dateTime', 'type': 'literal', 'value': '1904-02-26T00:00:00Z'}, 'placeOfBirthLabel': {'xml:lang': 'en', 'type': 'literal', 'value': 'City of Brussels'}}, {'person': {'type': 'uri', 'value': 'http://www.wikidata.org/entity/Q2837260'}, 'personLabel': {'xml:lang': 'en', 'type': 'literal', 'value': 'Alix Battard'}, 'dateBirth': {'datatype': 'http://www.w3.org/2001/XMLSchema#dateTime', 'type': 'literal', 'value': '1985-01-18T00:00:00Z'}}, {'person': {'type': 'uri', 'value': 'http://www.wikidata.org/entity/Q109768221'}, 'personLabel': {'xml:lang': 'en', 'type': 'literal', 'value': 'Aliénor Debrocq'}, 'dateBirth': {'datatype': 'http://www.w3.org/2001/XMLSchema#dateTime', 'type': 'literal', 'value': '1983-01-01T00:00:00Z'}, 'placeOfBirthLabel': {'xml:lang': 'en', 'type': 'literal', 'value': 'Mons'}}, {'person': {'type': 'uri', 'value': 'http://www.wikidata.org/entity/Q66360955'}, 'personLabel': {'xml:lang': 'en', 'type': 'literal', 'value': 'An Brouckmans'}, 'dateBirth': {'datatype': 'http://www.w3.org/2001/XMLSchema#dateTime', 'type': 'literal', 'value': '1958-03-24T00:00:00Z'}, 'placeOfBirthLabel': {'xml:lang': 'en', 'type': 'literal', 'value': 'Leuven'}}, {'person': {'type': 'uri', 'value': 'http://www.wikidata.org/entity/Q38554458'}, 'personLabel': {'xml:lang': 'en', 'type': 'literal', 'value': 'An Goovaerts'}, 'dateBirth': {'datatype': 'http://www.w3.org/2001/XMLSchema#dateTime', 'type': 'literal', 'value': '1977-01-01T00:00:00Z'}}, {'person': {'type': 'uri', 'value': 'http://www.wikidata.org/entity/Q66316880'}, 'personLabel': {'xml:lang': 'en', 'type': 'literal', 'value': 'An Meskens'}, 'dateBirth': {'datatype': 'http://www.w3.org/2001/XMLSchema#dateTime', 'type': 'literal', 'value': '1977-01-01T00:00:00Z'}}, {'person': {'type': 'uri', 'value': 'http://www.wikidata.org/entity/Q4767699'}, 'personLabel': {'xml:lang': 'en', 'type': 'literal', 'value': 'Annabel Tollman'}, 'dateBirth': {'datatype': 'http://www.w3.org/2001/XMLSchema#dateTime', 'type': 'literal', 'value': '1974-03-07T00:00:00Z'}, 'dateDeath': {'datatype': 'http://www.w3.org/2001/XMLSchema#dateTime', 'type': 'literal', 'value': '2013-06-05T00:00:00Z'}, 'placeOfBirthLabel': {'xml:lang': 'en', 'type': 'literal', 'value': 'City of Brussels'}}, {'person': {'type': 'uri', 'value': 'http://www.wikidata.org/entity/Q2851018'}, 'personLabel': {'xml:lang': 'en', 'type': 'literal', 'value': \"Anne Charlotte d'Ursel\"}, 'dateBirth': {'datatype': 'http://www.w3.org/2001/XMLSchema#dateTime', 'type': 'literal', 'value': '1967-11-29T00:00:00Z'}, 'placeOfBirthLabel': {'xml:lang': 'en', 'type': 'literal', 'value': 'Ixelles - Elsene'}}, {'person': {'type': 'uri', 'value': 'http://www.wikidata.org/entity/Q41799433'}, 'personLabel': {'xml:lang': 'en', 'type': 'literal', 'value': 'Anne Defraiteur Nicoleau'}, 'dateBirth': {'datatype': 'http://www.w3.org/2001/XMLSchema#dateTime', 'type': 'literal', 'value': '1972-02-28T00:00:00Z'}, 'placeOfBirthLabel': {'xml:lang': 'en', 'type': 'literal', 'value': 'Belgium'}}, {'person': {'type': 'uri', 'value': 'http://www.wikidata.org/entity/Q460714'}, 'personLabel': {'xml:lang': 'en', 'type': 'literal', 'value': 'Anne Delvaux'}, 'dateBirth': {'datatype': 'http://www.w3.org/2001/XMLSchema#dateTime', 'type': 'literal', 'value': '1970-10-20T00:00:00Z'}, 'placeOfBirthLabel': {'xml:lang': 'en', 'type': 'literal', 'value': 'Liège'}}]\n"
     ]
    }
   ],
   "source": [
    "\n",
    "endpoint = \"https://query.wikidata.org/bigdata/namespace/wdq/sparql\"\n",
    "sparql = SPARQLWrapper(endpoint)\n",
    "\n",
    "# P27 = country of citizenship \n",
    "# Q31 = Belgium\n",
    "# P106 = occupation\n",
    "# Q1930187 = journalist\n",
    "# P21 = sex or gender\n",
    "# Q6581072 = female\n",
    "# P569 = date of birth\n",
    "# P570 = date of death\n",
    "# P19 = place of birth\n",
    "# P1066 = occupation\n",
    "# P166 = award received\n",
    "\n",
    "statement = \"\"\"\n",
    "SELECT DISTINCT ?person ?personLabel ?dateBirth ?dateDeath ?placeOfBirthLabel ?occupationLabel ?awardLabel WHERE {\n",
    "  ?person wdt:P27 wd:Q31 .\n",
    "  ?person wdt:P106 wd:Q1930187 .\n",
    "  ?person wdt:P21 wd:Q6581072 .\n",
    "  ?person wdt:P569 ?dateBirth .\n",
    "  OPTIONAL {?person wdt:P570 ?dateDeath .}\n",
    "  OPTIONAL {?person wdt:P19 ?placeOfBirth .}\n",
    "  OPTIONAL {?person wdt:P1066 ?occupation .}\n",
    "  OPTIONAL {?person wdt:P166 ?award .}\n",
    "  SERVICE wikibase:label { bd:serviceParam wikibase:language \"en\" . }\n",
    "}\n",
    "ORDER BY ?personLabel\n",
    "\"\"\"\n",
    "\n",
    "sparql.setQuery(statement)\n",
    "sparql.setReturnFormat(JSON)\n",
    "results = sparql.query().convert()\n",
    "\n",
    "rows = results['results']['bindings']\n",
    "print(f\"\\n{len(rows)} female journalists found\\n\")\n",
    "print(rows[:10])\n"
   ]
  }
 ],
 "metadata": {
  "kernelspec": {
   "display_name": "tac_venv",
   "language": "python",
   "name": "python3"
  },
  "language_info": {
   "codemirror_mode": {
    "name": "ipython",
    "version": 3
   },
   "file_extension": ".py",
   "mimetype": "text/x-python",
   "name": "python",
   "nbconvert_exporter": "python",
   "pygments_lexer": "ipython3",
   "version": "3.11.5"
  },
  "orig_nbformat": 4
 },
 "nbformat": 4,
 "nbformat_minor": 2
}
